{
 "cells": [
  {
   "cell_type": "code",
   "execution_count": 1,
   "metadata": {},
   "outputs": [],
   "source": [
    "import os\n",
    "import pymupdf\n",
    "import cv2\n",
    "import numpy as np"
   ]
  },
  {
   "cell_type": "markdown",
   "metadata": {},
   "source": [
    "## Get faces from all pages from the yearbooks"
   ]
  },
  {
   "cell_type": "code",
   "execution_count": 20,
   "metadata": {},
   "outputs": [
    {
     "name": "stdout",
     "output_type": "stream",
     "text": [
      "Getting faces from ./yearbooks/1951.pdf\n",
      "Getting faces from ./yearbooks/1931.pdf\n",
      "Getting faces from ./yearbooks/1971.pdf\n",
      "Getting faces from ./yearbooks/1961.pdf\n",
      "Getting faces from ./yearbooks/1911.pdf\n",
      "Getting faces from ./yearbooks/1921.pdf\n",
      "Getting faces from ./yearbooks/1941.pdf\n"
     ]
    }
   ],
   "source": [
    "detec = cv2.CascadeClassifier(\"./haarcascade_frontalface_default.xml\")\n",
    "\n",
    "for file in os.listdir(\"./yearbooks\"):\n",
    "    pdf_path = os.path.join(\"./yearbooks\", file)\n",
    "    print(\"Getting faces from\", pdf_path)\n",
    "    # Create path to store the image of each face\n",
    "    year = file.split(\".\")[0]\n",
    "    images_path = f\"./images/{year}/\"\n",
    "    if not os.path.isdir(images_path):\n",
    "        os.makedirs(images_path)\n",
    "\n",
    "    pdf = pymupdf.open(pdf_path)\n",
    "\n",
    "    for page in pdf:\n",
    "        pix = page.get_pixmap()\n",
    "        img =  np.frombuffer(buffer=pix.samples, dtype=np.uint8).reshape((pix.height, pix.width, 3))\n",
    "        gray = cv2.cvtColor(img, cv2.COLOR_BGR2GRAY)\n",
    "        face = detec.detectMultiScale(gray, 1.3, 3)\n",
    "\n",
    "        for i, (x, y, w, h) in enumerate(face):\n",
    "            crop = img[y:y+h,x:x+w]\n",
    "            cv2.imwrite(images_path + f\"{page.number}_{i}.png\", crop)\n",
    "        \n",
    "            break\n",
    "        \n",
    "        if not isinstance(face, tuple):\n",
    "            break\n",
    "\n",
    "\n",
    "    \n"
   ]
  }
 ],
 "metadata": {
  "kernelspec": {
   "display_name": "env",
   "language": "python",
   "name": "python3"
  },
  "language_info": {
   "codemirror_mode": {
    "name": "ipython",
    "version": 3
   },
   "file_extension": ".py",
   "mimetype": "text/x-python",
   "name": "python",
   "nbconvert_exporter": "python",
   "pygments_lexer": "ipython3",
   "version": "3.10.12"
  }
 },
 "nbformat": 4,
 "nbformat_minor": 2
}
