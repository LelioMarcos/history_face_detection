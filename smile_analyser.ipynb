{
 "cells": [
  {
   "cell_type": "code",
   "execution_count": 16,
   "metadata": {},
   "outputs": [],
   "source": [
    "import os\n",
    "import pymupdf\n",
    "import cv2\n",
    "import numpy as np\n",
    "import pandas as pd"
   ]
  },
  {
   "cell_type": "markdown",
   "metadata": {},
   "source": [
    "## Get faces from all pages from the yearbooks"
   ]
  },
  {
   "cell_type": "code",
   "execution_count": 8,
   "metadata": {},
   "outputs": [],
   "source": [
    "def detect_faces(img):\n",
    "    detec = cv2.CascadeClassifier(\"./haarcascade_frontalface_default.xml\")\n",
    "    gray = cv2.cvtColor(img, cv2.COLOR_BGR2GRAY)\n",
    "    face = detec.detectMultiScale(gray, 1.3, 3)\n",
    "\n",
    "    return face\n",
    "\n",
    "def detect_smiles(img):\n",
    "    smile_cascade = cv2.CascadeClassifier(\"./haarcascade_smile.xml\")\n",
    "    gray = cv2.cvtColor(img, cv2.COLOR_BGR2GRAY)\n",
    "    smiles = smile_cascade.detectMultiScale(gray, 1.1, 10)\n",
    "\n",
    "    return smiles "
   ]
  },
  {
   "cell_type": "code",
   "execution_count": 13,
   "metadata": {},
   "outputs": [
    {
     "name": "stdout",
     "output_type": "stream",
     "text": [
      "Getting faces from ./yearbooks/1951.pdf\n",
      "Getting faces from ./yearbooks/1931.pdf\n",
      "Getting faces from ./yearbooks/1971.pdf\n",
      "Getting faces from ./yearbooks/1961.pdf\n",
      "Getting faces from ./yearbooks/1911.pdf\n",
      "Getting faces from ./yearbooks/1921.pdf\n",
      "Getting faces from ./yearbooks/1941.pdf\n"
     ]
    }
   ],
   "source": [
    "years = []\n",
    "FACES_LIMIT = 20\n",
    "\n",
    "for file in os.listdir(\"./yearbooks\"):\n",
    "    pdf_path = os.path.join(\"./yearbooks\", file)\n",
    "    print(\"Getting faces from\", pdf_path)\n",
    "    # Create path to store the image of each face\n",
    "    year = file.split(\".\")[0]\n",
    "    years.append(year)\n",
    "\n",
    "    count_faces = 0\n",
    "\n",
    "    images_path = f\"./images/{year}/\"\n",
    "    if not os.path.isdir(images_path):\n",
    "        os.makedirs(images_path)\n",
    "\n",
    "    pdf = pymupdf.open(pdf_path)\n",
    "\n",
    "    for page in pdf:\n",
    "        pix = page.get_pixmap()\n",
    "        img =  np.frombuffer(buffer=pix.samples, dtype=np.uint8).reshape((pix.height, pix.width, 3))\n",
    "        faces = detect_faces(img)\n",
    "\n",
    "        for i, (x, y, w, h) in enumerate(faces):\n",
    "            crop = img[y:y+h,x:x+w]\n",
    "            cv2.imwrite(images_path + f\"{page.number}_{i}.png\", crop)\n",
    "            count_faces += 1\n",
    "\n",
    "            if count_faces >= FACES_LIMIT:\n",
    "                break\n",
    "        \n",
    "        if count_faces >= FACES_LIMIT:\n",
    "            break"
   ]
  },
  {
   "cell_type": "code",
   "execution_count": null,
   "metadata": {},
   "outputs": [
    {
     "name": "stdout",
     "output_type": "stream",
     "text": [
      "   year  smile_count  nonsmile_count  smile_factor\n",
      "0  1911            0              20          0.00\n",
      "1  1921            2              18          0.10\n",
      "2  1931            3              17          0.15\n",
      "3  1941            1              19          0.05\n",
      "4  1951            5              15          0.25\n",
      "5  1961           10              10          0.50\n",
      "6  1971            6              14          0.30\n"
     ]
    }
   ],
   "source": [
    "df_smiles = pd.DataFrame()\n",
    "\n",
    "for year in years:\n",
    "    files = os.listdir(f\"./images/{year}\")\n",
    "    count_smiles = 0\n",
    "    for file in files:\n",
    "        img = cv2.imread(f\"./images/{year}/{file}\")\n",
    "        smiles = detect_smiles(img)\n",
    "        if len(smiles) > 0:\n",
    "            count_smiles += 1\n",
    "    smile = {\n",
    "        \"year\": year,\n",
    "        \"smile_count\": count_smiles,\n",
    "        \"nonsmile_count\": len(files) - count_smiles,\n",
    "        \"smile_factor\": count_smiles / len(files) \n",
    "    }\n",
    "    df_smile = pd.DataFrame([smile])\n",
    "    df_smiles = pd.concat([df_smiles, df_smile], ignore_index=True)\n",
    "\n",
    "df_smiles = df_smiles.sort_values(by=['year'], ignore_index=True)\n",
    "\n",
    "print(df_smiles)\n"
   ]
  }
 ],
 "metadata": {
  "kernelspec": {
   "display_name": "env",
   "language": "python",
   "name": "python3"
  },
  "language_info": {
   "codemirror_mode": {
    "name": "ipython",
    "version": 3
   },
   "file_extension": ".py",
   "mimetype": "text/x-python",
   "name": "python",
   "nbconvert_exporter": "python",
   "pygments_lexer": "ipython3",
   "version": "3.10.12"
  }
 },
 "nbformat": 4,
 "nbformat_minor": 2
}
